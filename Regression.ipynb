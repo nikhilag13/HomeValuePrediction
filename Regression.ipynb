{
 "cells": [
  {
   "cell_type": "code",
   "execution_count": 94,
   "metadata": {},
   "outputs": [],
   "source": [
    "import pandas as pd\n",
    "import numpy as np\n",
    "import datetime\n",
    "from sklearn.metrics import mean_squared_error\n",
    "from math import sqrt"
   ]
  },
  {
   "cell_type": "code",
   "execution_count": 121,
   "metadata": {},
   "outputs": [],
   "source": [
    "data=pd.read_csv(\"C:\\Users\\SAI SUPRAJA M\\Documents\\GitHub\\HomeValuePrediction\\data\\preprocessed_data.csv\", low_memory=False)"
   ]
  },
  {
   "cell_type": "code",
   "execution_count": 122,
   "metadata": {},
   "outputs": [
    {
     "data": {
      "text/html": [
       "<div>\n",
       "<style scoped>\n",
       "    .dataframe tbody tr th:only-of-type {\n",
       "        vertical-align: middle;\n",
       "    }\n",
       "\n",
       "    .dataframe tbody tr th {\n",
       "        vertical-align: top;\n",
       "    }\n",
       "\n",
       "    .dataframe thead th {\n",
       "        text-align: right;\n",
       "    }\n",
       "</style>\n",
       "<table border=\"1\" class=\"dataframe\">\n",
       "  <thead>\n",
       "    <tr style=\"text-align: right;\">\n",
       "      <th></th>\n",
       "      <th>lotsizesquarefeet</th>\n",
       "      <th>calculatedfinishedsquarefeet</th>\n",
       "      <th>bedroomcnt</th>\n",
       "      <th>bathroomcnt</th>\n",
       "      <th>regionidzip</th>\n",
       "      <th>garagecarcnt</th>\n",
       "      <th>poolcnt</th>\n",
       "      <th>AgeofHouse</th>\n",
       "      <th>buildingclasstypeid</th>\n",
       "    </tr>\n",
       "  </thead>\n",
       "  <tbody>\n",
       "    <tr>\n",
       "      <th>0</th>\n",
       "      <td>-0.050669</td>\n",
       "      <td>-0.050669</td>\n",
       "      <td>8.0</td>\n",
       "      <td>10.0</td>\n",
       "      <td>0</td>\n",
       "      <td>0.0</td>\n",
       "      <td>1.0</td>\n",
       "      <td>23.0</td>\n",
       "      <td>0.0</td>\n",
       "    </tr>\n",
       "    <tr>\n",
       "      <th>1</th>\n",
       "      <td>-0.007400</td>\n",
       "      <td>-0.007400</td>\n",
       "      <td>3.0</td>\n",
       "      <td>6.0</td>\n",
       "      <td>1</td>\n",
       "      <td>0.0</td>\n",
       "      <td>1.0</td>\n",
       "      <td>91.0</td>\n",
       "      <td>0.0</td>\n",
       "    </tr>\n",
       "    <tr>\n",
       "      <th>2</th>\n",
       "      <td>-0.039324</td>\n",
       "      <td>-0.039324</td>\n",
       "      <td>5.0</td>\n",
       "      <td>7.0</td>\n",
       "      <td>2</td>\n",
       "      <td>0.0</td>\n",
       "      <td>1.0</td>\n",
       "      <td>9.0</td>\n",
       "      <td>0.0</td>\n",
       "    </tr>\n",
       "    <tr>\n",
       "      <th>3</th>\n",
       "      <td>-0.006266</td>\n",
       "      <td>-0.006266</td>\n",
       "      <td>6.0</td>\n",
       "      <td>7.0</td>\n",
       "      <td>3</td>\n",
       "      <td>0.0</td>\n",
       "      <td>1.0</td>\n",
       "      <td>4.0</td>\n",
       "      <td>0.0</td>\n",
       "    </tr>\n",
       "    <tr>\n",
       "      <th>4</th>\n",
       "      <td>-0.090092</td>\n",
       "      <td>-0.090092</td>\n",
       "      <td>7.0</td>\n",
       "      <td>11.0</td>\n",
       "      <td>4</td>\n",
       "      <td>0.0</td>\n",
       "      <td>1.0</td>\n",
       "      <td>37.0</td>\n",
       "      <td>0.0</td>\n",
       "    </tr>\n",
       "  </tbody>\n",
       "</table>\n",
       "</div>"
      ],
      "text/plain": [
       "   lotsizesquarefeet  calculatedfinishedsquarefeet  bedroomcnt  bathroomcnt  \\\n",
       "0          -0.050669                     -0.050669         8.0         10.0   \n",
       "1          -0.007400                     -0.007400         3.0          6.0   \n",
       "2          -0.039324                     -0.039324         5.0          7.0   \n",
       "3          -0.006266                     -0.006266         6.0          7.0   \n",
       "4          -0.090092                     -0.090092         7.0         11.0   \n",
       "\n",
       "   regionidzip  garagecarcnt  poolcnt  AgeofHouse  buildingclasstypeid  \n",
       "0            0           0.0      1.0        23.0                  0.0  \n",
       "1            1           0.0      1.0        91.0                  0.0  \n",
       "2            2           0.0      1.0         9.0                  0.0  \n",
       "3            3           0.0      1.0         4.0                  0.0  \n",
       "4            4           0.0      1.0        37.0                  0.0  "
      ]
     },
     "execution_count": 122,
     "metadata": {},
     "output_type": "execute_result"
    }
   ],
   "source": [
    "data.head()"
   ]
  },
  {
   "cell_type": "code",
   "execution_count": 141,
   "metadata": {},
   "outputs": [],
   "source": [
    "sample = [-0.007400,-0.007400,3,6,1,0,91,1,0]"
   ]
  },
  {
   "cell_type": "code",
   "execution_count": 142,
   "metadata": {},
   "outputs": [
    {
     "data": {
      "text/plain": [
       "array([[-5.06685665e-02, -5.06685665e-02,  8.00000000e+00, ...,\n",
       "         1.00000000e+00,  2.30000000e+01,  0.00000000e+00],\n",
       "       [-7.39977479e-03, -7.39977479e-03,  3.00000000e+00, ...,\n",
       "         1.00000000e+00,  9.10000000e+01,  0.00000000e+00],\n",
       "       [-3.93236158e-02, -3.93236158e-02,  5.00000000e+00, ...,\n",
       "         1.00000000e+00,  9.00000000e+00,  0.00000000e+00],\n",
       "       ...,\n",
       "       [-9.37307995e-03, -9.37307995e-03,  6.00000000e+00, ...,\n",
       "         1.00000000e+00,  1.00000000e+01,  0.00000000e+00],\n",
       "       [-6.20058668e-03, -6.20058668e-03,  4.00000000e+00, ...,\n",
       "         0.00000000e+00,  1.20000000e+01,  0.00000000e+00],\n",
       "       [-3.56122529e-03, -3.56122529e-03,  6.00000000e+00, ...,\n",
       "         0.00000000e+00,  8.00000000e+00,  0.00000000e+00]])"
      ]
     },
     "execution_count": 142,
     "metadata": {},
     "output_type": "execute_result"
    }
   ],
   "source": [
    "data_array = data.values\n",
    "data_array"
   ]
  },
  {
   "cell_type": "code",
   "execution_count": 143,
   "metadata": {},
   "outputs": [],
   "source": [
    "data_class = pd.read_csv('data/class.csv')"
   ]
  },
  {
   "cell_type": "code",
   "execution_count": 144,
   "metadata": {},
   "outputs": [
    {
     "name": "stdout",
     "output_type": "stream",
     "text": [
      "(2994L, 9L) (749L, 9L)\n"
     ]
    }
   ],
   "source": [
    "from sklearn.model_selection import train_test_split\n",
    "start = datetime.datetime.now()\n",
    "X_train, X_test, y_train, y_test = train_test_split(data_array, data_class, test_size=0.2, random_state=1)\n",
    "print X_train.shape, X_test.shape"
   ]
  },
  {
   "cell_type": "code",
   "execution_count": 145,
   "metadata": {},
   "outputs": [
    {
     "name": "stdout",
     "output_type": "stream",
     "text": [
      "Time taken:  0:00:00.027000\n",
      "MAE:  0.0638854640901\n"
     ]
    }
   ],
   "source": [
    "from sklearn import linear_model\n",
    "reg = linear_model.LinearRegression()\n",
    "start = datetime.datetime.now()\n",
    "reg.fit(X_train, y_train)\n",
    "end = datetime.datetime.now()\n",
    "print  \"Time taken: \", end - start\n",
    "predict = reg.predict(X_test)\n",
    "print \"MAE: \", sqrt(mean_squared_error(y_test, predict))"
   ]
  },
  {
   "cell_type": "code",
   "execution_count": 146,
   "metadata": {},
   "outputs": [
    {
     "name": "stdout",
     "output_type": "stream",
     "text": [
      "Time taken:  0:00:00.002000\n",
      "0.0651528856414\n"
     ]
    }
   ],
   "source": [
    "from sklearn import linear_model\n",
    "start = datetime.datetime.now()\n",
    "reg = linear_model.Ridge(alpha = 1000.0)\n",
    "reg.fit (X_train, y_train) \n",
    "end = datetime.datetime.now()\n",
    "print  \"Time taken: \", end - start\n",
    "predict1 = reg.predict(X_test)\n",
    "print sqrt(mean_squared_error(y_test, predict1))"
   ]
  },
  {
   "cell_type": "code",
   "execution_count": 147,
   "metadata": {},
   "outputs": [
    {
     "name": "stdout",
     "output_type": "stream",
     "text": [
      "Time taken:  0:00:00.002000\n",
      "MAE:  0.0723618703433\n"
     ]
    }
   ],
   "source": [
    "from sklearn import linear_model\n",
    "start = datetime.datetime.now()\n",
    "reg = linear_model.LassoLars(alpha=0.01)\n",
    "reg.fit (X_train, y_train) \n",
    "end = datetime.datetime.now()\n",
    "print  \"Time taken: \", end - start\n",
    "predict1 = reg.predict(X_test)\n",
    "print \"MAE: \", sqrt(mean_squared_error(y_test, predict1))"
   ]
  },
  {
   "cell_type": "code",
   "execution_count": 148,
   "metadata": {
    "scrolled": true
   },
   "outputs": [
    {
     "name": "stdout",
     "output_type": "stream",
     "text": [
      "Time taken:  0:00:00.225000\n",
      "MAE:  0.0606938899626\n"
     ]
    }
   ],
   "source": [
    "from sklearn.ensemble import GradientBoostingRegressor,RandomForestRegressor\n",
    "start = datetime.datetime.now()\n",
    "gb = GradientBoostingRegressor()\n",
    "gb.fit(X_train, y_train)\n",
    "end = datetime.datetime.now()\n",
    "print  \"Time taken: \", end - start\n",
    "y_predict_gb = gb.predict(X_test)\n",
    "print \"MAE: \", sqrt(mean_squared_error(y_test, y_predict_gb))"
   ]
  },
  {
   "cell_type": "code",
   "execution_count": 149,
   "metadata": {},
   "outputs": [
    {
     "name": "stderr",
     "output_type": "stream",
     "text": [
      "C:\\ProgramData\\Anaconda2\\lib\\site-packages\\ipykernel_launcher.py:3: DataConversionWarning: A column-vector y was passed when a 1d array was expected. Please change the shape of y to (n_samples,), for example using ravel().\n",
      "  This is separate from the ipykernel package so we can avoid doing imports until\n"
     ]
    },
    {
     "name": "stdout",
     "output_type": "stream",
     "text": [
      "Time taken:  0:00:00.279000\n",
      "MAE:  0.0606972692762\n"
     ]
    }
   ],
   "source": [
    "start = datetime.datetime.now()\n",
    "rf = RandomForestRegressor()\n",
    "rf.fit(X_train, y_train)\n",
    "end = datetime.datetime.now()\n",
    "print  \"Time taken: \", end - start\n",
    "y_predict_rf = rf.predict(X_test)\n",
    "print \"MAE: \", sqrt(mean_squared_error(y_test, y_predict_rf))"
   ]
  },
  {
   "cell_type": "code",
   "execution_count": 150,
   "metadata": {},
   "outputs": [
    {
     "name": "stdout",
     "output_type": "stream",
     "text": [
      "Time taken:  0:00:00.196000\n",
      "MAE:  0.0619307121323\n"
     ]
    }
   ],
   "source": [
    "from xgboost.sklearn import XGBRegressor\n",
    "start = datetime.datetime.now()\n",
    "xgb = XGBRegressor()\n",
    "xgb.fit(X_train,y_train)\n",
    "end = datetime.datetime.now()\n",
    "print  \"Time taken: \", end - start\n",
    "y_predict_xgb = xgb.predict(X_test)\n",
    "print \"MAE: \", sqrt(mean_squared_error(y_test, y_predict_xgb))"
   ]
  },
  {
   "cell_type": "code",
   "execution_count": 151,
   "metadata": {},
   "outputs": [],
   "source": [
    "import pickle\n",
    "filename = 'xgboost.sav'\n",
    "pickle.dump(xgb, open(filename, 'wb'))"
   ]
  },
  {
   "cell_type": "code",
   "execution_count": 152,
   "metadata": {},
   "outputs": [],
   "source": [
    "from sklearn.cross_validation import cross_val_score, cross_val_score\n",
    "def cross_validation_score(model,train,test):\n",
    "    scores = cross_val_score(model, train, test, cv=10)\n",
    "    return scores"
   ]
  },
  {
   "cell_type": "code",
   "execution_count": 153,
   "metadata": {},
   "outputs": [
    {
     "name": "stdout",
     "output_type": "stream",
     "text": [
      "[0.20207578 0.11321481 0.35409043 0.27355293 0.28268364 0.40382307\n",
      " 0.32508502 0.35371055 0.1078757  0.30429076]\n"
     ]
    }
   ],
   "source": [
    "print cross_validation_score(xgb, X_train, y_train)"
   ]
  },
  {
   "cell_type": "code",
   "execution_count": 154,
   "metadata": {},
   "outputs": [
    {
     "name": "stdout",
     "output_type": "stream",
     "text": [
      "[ 0.10776553  0.06593326  0.30351256  0.03260321  0.23347988  0.37603234\n",
      "  0.2654883   0.20653101 -0.02788152  0.20359914]\n"
     ]
    }
   ],
   "source": [
    "print cross_validation_score(rf, X_train, y_train)"
   ]
  },
  {
   "cell_type": "code",
   "execution_count": 155,
   "metadata": {},
   "outputs": [
    {
     "name": "stdout",
     "output_type": "stream",
     "text": [
      "[ 0.23617565  0.11570431  0.35272123  0.29835681  0.31241225  0.41081297\n",
      "  0.28524463  0.35264203 -0.02894047  0.31217201]\n"
     ]
    }
   ],
   "source": [
    "print cross_validation_score(gb, X_train, y_train)"
   ]
  },
  {
   "cell_type": "code",
   "execution_count": 156,
   "metadata": {},
   "outputs": [],
   "source": [
    "predictValues = [{\n",
    "  'bedroomcnt': 1.0,\n",
    "  'bathroomcnt': 1.0,\n",
    "  'poolcnt' : 1.0,\n",
    "  'garagecarcnt': 1.0,\n",
    "  'lotsizesquarefeet': 718.1781305110001,\n",
    "  'calculatedfinishedsquarefeet': 918.1781305110001,\n",
    "#   'regionidzip': '10464'\n",
    "}]"
   ]
  },
  {
   "cell_type": "code",
   "execution_count": 157,
   "metadata": {},
   "outputs": [],
   "source": [
    "loaded_model = pickle.load(open(filename, 'rb'))\n",
    "result = loaded_model.predict(sample)"
   ]
  },
  {
   "cell_type": "code",
   "execution_count": 158,
   "metadata": {},
   "outputs": [
    {
     "data": {
      "text/plain": [
       "array([-0.04696584], dtype=float32)"
      ]
     },
     "execution_count": 158,
     "metadata": {},
     "output_type": "execute_result"
    }
   ],
   "source": [
    "result"
   ]
  },
  {
   "cell_type": "code",
   "execution_count": 115,
   "metadata": {},
   "outputs": [],
   "source": [
    "def reverse_transformation(value, min_value, max_value):\n",
    "    return (value*(max_value-min_value)+min_value)\n",
    "    "
   ]
  },
  {
   "cell_type": "code",
   "execution_count": null,
   "metadata": {},
   "outputs": [],
   "source": []
  }
 ],
 "metadata": {
  "kernelspec": {
   "display_name": "Python 2",
   "language": "python",
   "name": "python2"
  },
  "language_info": {
   "codemirror_mode": {
    "name": "ipython",
    "version": 2
   },
   "file_extension": ".py",
   "mimetype": "text/x-python",
   "name": "python",
   "nbconvert_exporter": "python",
   "pygments_lexer": "ipython2",
   "version": "2.7.14"
  }
 },
 "nbformat": 4,
 "nbformat_minor": 2
}
