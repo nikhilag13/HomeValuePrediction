{
 "cells": [
  {
   "cell_type": "code",
   "execution_count": 357,
   "metadata": {},
   "outputs": [],
   "source": [
    "import pandas as pd\n",
    "import numpy as np\n",
    "import datetime\n",
    "from sklearn.metrics import mean_squared_error\n",
    "from math import sqrt"
   ]
  },
  {
   "cell_type": "code",
   "execution_count": 368,
   "metadata": {},
   "outputs": [],
   "source": [
    "data=pd.read_csv(\"C:\\Users\\SAI SUPRAJA M\\Documents\\GitHub\\HomeValuePrediction\\data\\preprocessed_data.csv\", low_memory=False)"
   ]
  },
  {
   "cell_type": "code",
   "execution_count": 369,
   "metadata": {},
   "outputs": [
    {
     "data": {
      "text/html": [
       "<div>\n",
       "<style scoped>\n",
       "    .dataframe tbody tr th:only-of-type {\n",
       "        vertical-align: middle;\n",
       "    }\n",
       "\n",
       "    .dataframe tbody tr th {\n",
       "        vertical-align: top;\n",
       "    }\n",
       "\n",
       "    .dataframe thead th {\n",
       "        text-align: right;\n",
       "    }\n",
       "</style>\n",
       "<table border=\"1\" class=\"dataframe\">\n",
       "  <thead>\n",
       "    <tr style=\"text-align: right;\">\n",
       "      <th></th>\n",
       "      <th>lotsizesquarefeet</th>\n",
       "      <th>calculatedfinishedsquarefeet</th>\n",
       "      <th>bedroomcnt</th>\n",
       "      <th>bathroomcnt</th>\n",
       "      <th>regionidzip</th>\n",
       "      <th>garagecarcnt</th>\n",
       "      <th>poolcnt</th>\n",
       "      <th>AgeofHouse</th>\n",
       "      <th>buildingclasstypeid</th>\n",
       "    </tr>\n",
       "  </thead>\n",
       "  <tbody>\n",
       "    <tr>\n",
       "      <th>0</th>\n",
       "      <td>-0.001201</td>\n",
       "      <td>-0.001201</td>\n",
       "      <td>4.0</td>\n",
       "      <td>4.0</td>\n",
       "      <td>0</td>\n",
       "      <td>0.0</td>\n",
       "      <td>0.0</td>\n",
       "      <td>67.0</td>\n",
       "      <td>0.0</td>\n",
       "    </tr>\n",
       "    <tr>\n",
       "      <th>1</th>\n",
       "      <td>-0.000301</td>\n",
       "      <td>-0.000301</td>\n",
       "      <td>3.0</td>\n",
       "      <td>2.5</td>\n",
       "      <td>1</td>\n",
       "      <td>2.0</td>\n",
       "      <td>0.0</td>\n",
       "      <td>3.0</td>\n",
       "      <td>0.0</td>\n",
       "    </tr>\n",
       "    <tr>\n",
       "      <th>2</th>\n",
       "      <td>-0.000412</td>\n",
       "      <td>-0.000412</td>\n",
       "      <td>4.0</td>\n",
       "      <td>3.0</td>\n",
       "      <td>2</td>\n",
       "      <td>2.0</td>\n",
       "      <td>0.0</td>\n",
       "      <td>3.0</td>\n",
       "      <td>0.0</td>\n",
       "    </tr>\n",
       "    <tr>\n",
       "      <th>3</th>\n",
       "      <td>-0.005995</td>\n",
       "      <td>-0.005995</td>\n",
       "      <td>5.0</td>\n",
       "      <td>3.5</td>\n",
       "      <td>3</td>\n",
       "      <td>1.0</td>\n",
       "      <td>0.0</td>\n",
       "      <td>57.0</td>\n",
       "      <td>0.0</td>\n",
       "    </tr>\n",
       "    <tr>\n",
       "      <th>4</th>\n",
       "      <td>-0.020725</td>\n",
       "      <td>-0.020725</td>\n",
       "      <td>2.0</td>\n",
       "      <td>2.0</td>\n",
       "      <td>3</td>\n",
       "      <td>2.0</td>\n",
       "      <td>0.0</td>\n",
       "      <td>37.0</td>\n",
       "      <td>0.0</td>\n",
       "    </tr>\n",
       "  </tbody>\n",
       "</table>\n",
       "</div>"
      ],
      "text/plain": [
       "   lotsizesquarefeet  calculatedfinishedsquarefeet  bedroomcnt  bathroomcnt  \\\n",
       "0          -0.001201                     -0.001201         4.0          4.0   \n",
       "1          -0.000301                     -0.000301         3.0          2.5   \n",
       "2          -0.000412                     -0.000412         4.0          3.0   \n",
       "3          -0.005995                     -0.005995         5.0          3.5   \n",
       "4          -0.020725                     -0.020725         2.0          2.0   \n",
       "\n",
       "   regionidzip  garagecarcnt  poolcnt  AgeofHouse  buildingclasstypeid  \n",
       "0            0           0.0      0.0        67.0                  0.0  \n",
       "1            1           2.0      0.0         3.0                  0.0  \n",
       "2            2           2.0      0.0         3.0                  0.0  \n",
       "3            3           1.0      0.0        57.0                  0.0  \n",
       "4            3           2.0      0.0        37.0                  0.0  "
      ]
     },
     "execution_count": 369,
     "metadata": {},
     "output_type": "execute_result"
    }
   ],
   "source": [
    "data.head()"
   ]
  },
  {
   "cell_type": "code",
   "execution_count": 370,
   "metadata": {},
   "outputs": [],
   "source": [
    "sample = [-0.001201,-0.001201,4.0,4.0,0,0.0,0.0,67.0,0.0]"
   ]
  },
  {
   "cell_type": "code",
   "execution_count": 371,
   "metadata": {},
   "outputs": [
    {
     "data": {
      "text/plain": [
       "array([[-1.20113718e-03, -1.20113718e-03,  4.00000000e+00, ...,\n",
       "         0.00000000e+00,  6.70000000e+01,  0.00000000e+00],\n",
       "       [-3.01403603e-04, -3.01403603e-04,  3.00000000e+00, ...,\n",
       "         0.00000000e+00,  3.00000000e+00,  0.00000000e+00],\n",
       "       [-4.11524515e-04, -4.11524515e-04,  4.00000000e+00, ...,\n",
       "         0.00000000e+00,  3.00000000e+00,  0.00000000e+00],\n",
       "       ...,\n",
       "       [-3.09119688e-04, -3.09119688e-04,  3.00000000e+00, ...,\n",
       "         0.00000000e+00,  5.00000000e+00,  0.00000000e+00],\n",
       "       [-3.34554189e-04, -3.34554189e-04,  4.00000000e+00, ...,\n",
       "         0.00000000e+00,  4.00000000e+00,  0.00000000e+00],\n",
       "       [-5.00973941e-04, -5.00973941e-04,  4.00000000e+00, ...,\n",
       "         0.00000000e+00,  3.00000000e+00,  0.00000000e+00]])"
      ]
     },
     "execution_count": 371,
     "metadata": {},
     "output_type": "execute_result"
    }
   ],
   "source": [
    "data_array = data.values\n",
    "data_array"
   ]
  },
  {
   "cell_type": "code",
   "execution_count": 372,
   "metadata": {},
   "outputs": [],
   "source": [
    "data_class = pd.read_csv('data/class.csv')"
   ]
  },
  {
   "cell_type": "code",
   "execution_count": 373,
   "metadata": {
    "scrolled": true
   },
   "outputs": [],
   "source": [
    "from sklearn.model_selection import train_test_split\n",
    "start = datetime.datetime.now()\n",
    "X_train, X_test, y_train, y_test = train_test_split(data_array, data_class, test_size=0.2, random_state=1)"
   ]
  },
  {
   "cell_type": "code",
   "execution_count": 364,
   "metadata": {},
   "outputs": [
    {
     "name": "stdout",
     "output_type": "stream",
     "text": [
      "Time taken:  0:00:05.617000\n",
      "RMSE:  0.290914831709\n"
     ]
    }
   ],
   "source": [
    "from sklearn import linear_model\n",
    "reg = linear_model.LinearRegression()\n",
    "start = datetime.datetime.now()\n",
    "reg.fit(X_train, y_train)\n",
    "end = datetime.datetime.now()\n",
    "print  \"Time taken: \", end - start\n",
    "predict = reg.predict(X_test)\n",
    "print \"RMSE: \", sqrt(mean_squared_error(y_test, predict))"
   ]
  },
  {
   "cell_type": "code",
   "execution_count": 365,
   "metadata": {},
   "outputs": [
    {
     "name": "stdout",
     "output_type": "stream",
     "text": [
      "Time taken:  0:00:01.555000\n",
      "RMSE:  0.290890206628\n"
     ]
    }
   ],
   "source": [
    "from sklearn import linear_model\n",
    "start = datetime.datetime.now()\n",
    "reg = linear_model.Ridge(alpha = 1000.0)\n",
    "reg.fit (X_train, y_train) \n",
    "end = datetime.datetime.now()\n",
    "print  \"Time taken: \", end - start\n",
    "predict1 = reg.predict(X_test)\n",
    "print \"RMSE: \", sqrt(mean_squared_error(y_test, predict1))"
   ]
  },
  {
   "cell_type": "code",
   "execution_count": 366,
   "metadata": {},
   "outputs": [
    {
     "name": "stdout",
     "output_type": "stream",
     "text": [
      "Time taken:  0:00:00.771000\n",
      "RMSE:  0.290792519129\n"
     ]
    }
   ],
   "source": [
    "from sklearn import linear_model\n",
    "start = datetime.datetime.now()\n",
    "reg = linear_model.LassoLars(alpha=0.01)\n",
    "reg.fit (X_train, y_train) \n",
    "end = datetime.datetime.now()\n",
    "print  \"Time taken: \", end - start\n",
    "predict1 = reg.predict(X_test)\n",
    "print \"RMSE: \", sqrt(mean_squared_error(y_test, predict1))"
   ]
  },
  {
   "cell_type": "code",
   "execution_count": 367,
   "metadata": {},
   "outputs": [
    {
     "name": "stdout",
     "output_type": "stream",
     "text": [
      "Time taken:  0:00:06.642000\n",
      "RMSE:  0.290544347787\n"
     ]
    }
   ],
   "source": [
    "from xgboost.sklearn import XGBRegressor\n",
    "start = datetime.datetime.now()\n",
    "xgb = XGBRegressor()\n",
    "xgb.fit(X_train,y_train)\n",
    "end = datetime.datetime.now()\n",
    "print  \"Time taken: \", end - start\n",
    "y_predict_xgb = xgb.predict(X_test)\n",
    "print \"RMSE: \", sqrt(mean_squared_error(y_test, y_predict_xgb))"
   ]
  },
  {
   "cell_type": "code",
   "execution_count": 342,
   "metadata": {},
   "outputs": [],
   "source": [
    "import pickle\n",
    "filename = 'xgboost.sav'\n",
    "pickle.dump(xgb, open(filename, 'wb'))"
   ]
  },
  {
   "cell_type": "code",
   "execution_count": 343,
   "metadata": {},
   "outputs": [],
   "source": [
    "from sklearn.cross_validation import cross_val_score, cross_val_score\n",
    "def cross_validation_score(model,train,test):\n",
    "    scores = cross_val_score(model, train, test, cv=10)\n",
    "    return scores"
   ]
  },
  {
   "cell_type": "code",
   "execution_count": 344,
   "metadata": {},
   "outputs": [],
   "source": [
    "scores = cross_validation_score(xgb, X_test, y_test)"
   ]
  },
  {
   "cell_type": "code",
   "execution_count": 345,
   "metadata": {},
   "outputs": [],
   "source": [
    "loaded_model = pickle.load(open(filename, 'rb'))\n",
    "result = loaded_model.predict(sample)"
   ]
  },
  {
   "cell_type": "code",
   "execution_count": 346,
   "metadata": {},
   "outputs": [
    {
     "data": {
      "text/plain": [
       "array([-0.5340421], dtype=float32)"
      ]
     },
     "execution_count": 346,
     "metadata": {},
     "output_type": "execute_result"
    }
   ],
   "source": [
    "result"
   ]
  },
  {
   "cell_type": "code",
   "execution_count": 374,
   "metadata": {},
   "outputs": [
    {
     "data": {
      "text/plain": [
       "array([1113597.5], dtype=float32)"
      ]
     },
     "execution_count": 374,
     "metadata": {},
     "output_type": "execute_result"
    }
   ],
   "source": [
    "value = (-result*(1299963.0-900001.0))+900001.0\n",
    "value"
   ]
  },
  {
   "cell_type": "code",
   "execution_count": 263,
   "metadata": {},
   "outputs": [],
   "source": [
    "def reverse_transformation(value, min_value, max_value):\n",
    "    return (value*(max_value-min_value)+min_value) "
   ]
  }
 ],
 "metadata": {
  "kernelspec": {
   "display_name": "Python 2",
   "language": "python",
   "name": "python2"
  },
  "language_info": {
   "codemirror_mode": {
    "name": "ipython",
    "version": 2
   },
   "file_extension": ".py",
   "mimetype": "text/x-python",
   "name": "python",
   "nbconvert_exporter": "python",
   "pygments_lexer": "ipython2",
   "version": "2.7.14"
  }
 },
 "nbformat": 4,
 "nbformat_minor": 2
}
