{
 "cells": [
  {
   "cell_type": "code",
   "execution_count": 375,
   "metadata": {},
   "outputs": [],
   "source": [
    "import pandas as pd\n",
    "import numpy as np\n",
    "import datetime\n",
    "from sklearn.metrics import mean_squared_error\n",
    "from math import sqrt"
   ]
  },
  {
   "cell_type": "code",
   "execution_count": 376,
   "metadata": {},
   "outputs": [],
   "source": [
    "data=pd.read_csv(\"C:\\Users\\SAI SUPRAJA M\\Documents\\GitHub\\HomeValuePrediction\\data\\preprocessed_data.csv\", low_memory=False)"
   ]
  },
  {
   "cell_type": "code",
   "execution_count": 377,
   "metadata": {},
   "outputs": [
    {
     "data": {
      "text/html": [
       "<div>\n",
       "<style scoped>\n",
       "    .dataframe tbody tr th:only-of-type {\n",
       "        vertical-align: middle;\n",
       "    }\n",
       "\n",
       "    .dataframe tbody tr th {\n",
       "        vertical-align: top;\n",
       "    }\n",
       "\n",
       "    .dataframe thead th {\n",
       "        text-align: right;\n",
       "    }\n",
       "</style>\n",
       "<table border=\"1\" class=\"dataframe\">\n",
       "  <thead>\n",
       "    <tr style=\"text-align: right;\">\n",
       "      <th></th>\n",
       "      <th>lotsizesquarefeet</th>\n",
       "      <th>calculatedfinishedsquarefeet</th>\n",
       "      <th>bedroomcnt</th>\n",
       "      <th>bathroomcnt</th>\n",
       "      <th>regionidzip</th>\n",
       "      <th>garagecarcnt</th>\n",
       "      <th>poolcnt</th>\n",
       "      <th>AgeofHouse</th>\n",
       "      <th>buildingclasstypeid</th>\n",
       "    </tr>\n",
       "  </thead>\n",
       "  <tbody>\n",
       "    <tr>\n",
       "      <th>0</th>\n",
       "      <td>-0.000798</td>\n",
       "      <td>-0.000798</td>\n",
       "      <td>3.0</td>\n",
       "      <td>2.0</td>\n",
       "      <td>0</td>\n",
       "      <td>2.0</td>\n",
       "      <td>0.0</td>\n",
       "      <td>41.0</td>\n",
       "      <td>0.0</td>\n",
       "    </tr>\n",
       "    <tr>\n",
       "      <th>1</th>\n",
       "      <td>-0.000626</td>\n",
       "      <td>-0.000626</td>\n",
       "      <td>4.0</td>\n",
       "      <td>3.0</td>\n",
       "      <td>1</td>\n",
       "      <td>1.0</td>\n",
       "      <td>0.0</td>\n",
       "      <td>67.0</td>\n",
       "      <td>0.0</td>\n",
       "    </tr>\n",
       "    <tr>\n",
       "      <th>2</th>\n",
       "      <td>-0.000822</td>\n",
       "      <td>-0.000822</td>\n",
       "      <td>5.0</td>\n",
       "      <td>2.0</td>\n",
       "      <td>2</td>\n",
       "      <td>1.0</td>\n",
       "      <td>0.0</td>\n",
       "      <td>66.0</td>\n",
       "      <td>0.0</td>\n",
       "    </tr>\n",
       "    <tr>\n",
       "      <th>3</th>\n",
       "      <td>-0.002115</td>\n",
       "      <td>-0.002115</td>\n",
       "      <td>5.0</td>\n",
       "      <td>3.0</td>\n",
       "      <td>3</td>\n",
       "      <td>2.0</td>\n",
       "      <td>0.0</td>\n",
       "      <td>47.0</td>\n",
       "      <td>0.0</td>\n",
       "    </tr>\n",
       "    <tr>\n",
       "      <th>4</th>\n",
       "      <td>-0.001085</td>\n",
       "      <td>-0.001085</td>\n",
       "      <td>4.0</td>\n",
       "      <td>3.5</td>\n",
       "      <td>4</td>\n",
       "      <td>2.0</td>\n",
       "      <td>0.0</td>\n",
       "      <td>56.0</td>\n",
       "      <td>0.0</td>\n",
       "    </tr>\n",
       "  </tbody>\n",
       "</table>\n",
       "</div>"
      ],
      "text/plain": [
       "   lotsizesquarefeet  calculatedfinishedsquarefeet  bedroomcnt  bathroomcnt  \\\n",
       "0          -0.000798                     -0.000798         3.0          2.0   \n",
       "1          -0.000626                     -0.000626         4.0          3.0   \n",
       "2          -0.000822                     -0.000822         5.0          2.0   \n",
       "3          -0.002115                     -0.002115         5.0          3.0   \n",
       "4          -0.001085                     -0.001085         4.0          3.5   \n",
       "\n",
       "   regionidzip  garagecarcnt  poolcnt  AgeofHouse  buildingclasstypeid  \n",
       "0            0           2.0      0.0        41.0                  0.0  \n",
       "1            1           1.0      0.0        67.0                  0.0  \n",
       "2            2           1.0      0.0        66.0                  0.0  \n",
       "3            3           2.0      0.0        47.0                  0.0  \n",
       "4            4           2.0      0.0        56.0                  0.0  "
      ]
     },
     "execution_count": 377,
     "metadata": {},
     "output_type": "execute_result"
    }
   ],
   "source": [
    "data.head()"
   ]
  },
  {
   "cell_type": "code",
   "execution_count": 378,
   "metadata": {},
   "outputs": [],
   "source": [
    "sample = [-0.001201,-0.001201,4.0,4.0,0,0.0,0.0,67.0,0.0]"
   ]
  },
  {
   "cell_type": "code",
   "execution_count": 379,
   "metadata": {},
   "outputs": [
    {
     "data": {
      "text/plain": [
       "array([[-7.98499406e-04, -7.98499406e-04,  3.00000000e+00, ...,\n",
       "         0.00000000e+00,  4.10000000e+01,  0.00000000e+00],\n",
       "       [-6.26203721e-04, -6.26203721e-04,  4.00000000e+00, ...,\n",
       "         0.00000000e+00,  6.70000000e+01,  0.00000000e+00],\n",
       "       [-8.22313798e-04, -8.22313798e-04,  5.00000000e+00, ...,\n",
       "         0.00000000e+00,  6.60000000e+01,  0.00000000e+00],\n",
       "       ...,\n",
       "       [-4.79013568e-04, -4.79013568e-04,  3.00000000e+00, ...,\n",
       "         0.00000000e+00,  4.00000000e+01,  0.00000000e+00],\n",
       "       [-1.52541218e-03, -1.52541218e-03,  4.00000000e+00, ...,\n",
       "         1.00000000e+00,  5.30000000e+01,  0.00000000e+00],\n",
       "       [-3.02700997e-04, -3.02700997e-04,  2.00000000e+00, ...,\n",
       "         0.00000000e+00,  3.30000000e+01,  0.00000000e+00]])"
      ]
     },
     "execution_count": 379,
     "metadata": {},
     "output_type": "execute_result"
    }
   ],
   "source": [
    "data_array = data.values\n",
    "data_array"
   ]
  },
  {
   "cell_type": "code",
   "execution_count": 380,
   "metadata": {},
   "outputs": [],
   "source": [
    "data_class = pd.read_csv('data/class.csv')"
   ]
  },
  {
   "cell_type": "code",
   "execution_count": 381,
   "metadata": {
    "scrolled": true
   },
   "outputs": [],
   "source": [
    "from sklearn.model_selection import train_test_split\n",
    "start = datetime.datetime.now()\n",
    "X_train, X_test, y_train, y_test = train_test_split(data_array, data_class, test_size=0.2, random_state=1)"
   ]
  },
  {
   "cell_type": "code",
   "execution_count": 389,
   "metadata": {},
   "outputs": [
    {
     "name": "stdout",
     "output_type": "stream",
     "text": [
      "Time taken:  0:00:00.025000\n",
      "RMSE:  0.290914831709\n"
     ]
    }
   ],
   "source": [
    "from sklearn import linear_model\n",
    "reg1 = linear_model.LinearRegression()\n",
    "start = datetime.datetime.now()\n",
    "reg1.fit(X_train, y_train)\n",
    "end = datetime.datetime.now()\n",
    "print  \"Time taken: \", end - start\n",
    "predict = reg1.predict(X_test)\n",
    "print \"RMSE: \", sqrt(mean_squared_error(y_test, predict))"
   ]
  },
  {
   "cell_type": "code",
   "execution_count": 390,
   "metadata": {},
   "outputs": [
    {
     "name": "stdout",
     "output_type": "stream",
     "text": [
      "Time taken:  0:00:00.007000\n",
      "RMSE:  0.290890206628\n"
     ]
    }
   ],
   "source": [
    "from sklearn import linear_model\n",
    "start = datetime.datetime.now()\n",
    "reg2 = linear_model.Ridge(alpha = 1000.0)\n",
    "reg2.fit (X_train, y_train) \n",
    "end = datetime.datetime.now()\n",
    "print  \"Time taken: \", end - start\n",
    "predict1 = reg2.predict(X_test)\n",
    "print \"RMSE: \", sqrt(mean_squared_error(y_test, predict1))"
   ]
  },
  {
   "cell_type": "code",
   "execution_count": 391,
   "metadata": {},
   "outputs": [
    {
     "name": "stdout",
     "output_type": "stream",
     "text": [
      "Time taken:  0:00:00.007000\n",
      "RMSE:  0.290792519129\n"
     ]
    }
   ],
   "source": [
    "from sklearn import linear_model\n",
    "start = datetime.datetime.now()\n",
    "reg3 = linear_model.LassoLars(alpha=0.01)\n",
    "reg3.fit (X_train, y_train) \n",
    "end = datetime.datetime.now()\n",
    "print  \"Time taken: \", end - start\n",
    "predict1 = reg3.predict(X_test)\n",
    "print \"RMSE: \", sqrt(mean_squared_error(y_test, predict1))"
   ]
  },
  {
   "cell_type": "code",
   "execution_count": 385,
   "metadata": {},
   "outputs": [
    {
     "name": "stdout",
     "output_type": "stream",
     "text": [
      "Time taken:  0:00:04.148000\n",
      "RMSE:  0.290544347787\n"
     ]
    }
   ],
   "source": [
    "from xgboost.sklearn import XGBRegressor\n",
    "start = datetime.datetime.now()\n",
    "xgb = XGBRegressor()\n",
    "xgb.fit(X_train,y_train)\n",
    "end = datetime.datetime.now()\n",
    "print  \"Time taken: \", end - start\n",
    "y_predict_xgb = xgb.predict(X_test)\n",
    "print \"RMSE: \", sqrt(mean_squared_error(y_test, y_predict_xgb))"
   ]
  },
  {
   "cell_type": "code",
   "execution_count": 386,
   "metadata": {},
   "outputs": [],
   "source": [
    "import pickle\n",
    "filename = 'xgboost.sav'\n",
    "pickle.dump(xgb, open(filename, 'wb'))"
   ]
  },
  {
   "cell_type": "code",
   "execution_count": 387,
   "metadata": {},
   "outputs": [],
   "source": [
    "from sklearn.cross_validation import cross_val_score, cross_val_score\n",
    "def cross_validation_score(model,train,test):\n",
    "    scores = cross_val_score(model, train, test, cv=10)\n",
    "    return scores"
   ]
  },
  {
   "cell_type": "code",
   "execution_count": 393,
   "metadata": {},
   "outputs": [
    {
     "data": {
      "text/plain": [
       "array([-0.00095185,  0.00086411, -0.00167071, -0.00084858,  0.00082369,\n",
       "       -0.00056803, -0.00147359, -0.00378483, -0.00310475,  0.00025463])"
      ]
     },
     "execution_count": 393,
     "metadata": {},
     "output_type": "execute_result"
    }
   ],
   "source": [
    "scores = cross_validation_score(reg1, X_train, y_train)\n",
    "scores"
   ]
  },
  {
   "cell_type": "code",
   "execution_count": 395,
   "metadata": {},
   "outputs": [
    {
     "data": {
      "text/plain": [
       "array([-0.00065642,  0.00117094, -0.00155971, -0.00013308,  0.000898  ,\n",
       "       -0.00051441, -0.00153101, -0.00370618, -0.00298152,  0.00026095])"
      ]
     },
     "execution_count": 395,
     "metadata": {},
     "output_type": "execute_result"
    }
   ],
   "source": [
    "scores = cross_validation_score(reg2, X_train, y_train)\n",
    "scores"
   ]
  },
  {
   "cell_type": "code",
   "execution_count": 396,
   "metadata": {},
   "outputs": [
    {
     "data": {
      "text/plain": [
       "array([-8.00971337e-05, -1.30256451e-04, -6.46520132e-04, -6.97172176e-05,\n",
       "       -5.03698834e-05, -1.59462381e-03, -2.74390756e-03, -2.08069759e-03,\n",
       "       -2.41532726e-03, -5.27172504e-04])"
      ]
     },
     "execution_count": 396,
     "metadata": {},
     "output_type": "execute_result"
    }
   ],
   "source": [
    "scores = cross_validation_score(reg3, X_train, y_train)\n",
    "scores"
   ]
  },
  {
   "cell_type": "code",
   "execution_count": 394,
   "metadata": {},
   "outputs": [
    {
     "data": {
      "text/plain": [
       "array([-1.43852233e-04,  2.52961909e-06, -3.99940789e-03, -5.03836569e-05,\n",
       "       -3.68995705e-03, -3.50745930e-03, -5.99285364e-03,  2.07218976e-03,\n",
       "       -3.92313672e-03, -6.78124819e-03])"
      ]
     },
     "execution_count": 394,
     "metadata": {},
     "output_type": "execute_result"
    }
   ],
   "source": [
    "scores = cross_validation_score(xgb, X_train, y_train)\n",
    "scores"
   ]
  },
  {
   "cell_type": "code",
   "execution_count": 345,
   "metadata": {},
   "outputs": [],
   "source": [
    "loaded_model = pickle.load(open(filename, 'rb'))\n",
    "result = loaded_model.predict(sample)"
   ]
  },
  {
   "cell_type": "code",
   "execution_count": 346,
   "metadata": {},
   "outputs": [
    {
     "data": {
      "text/plain": [
       "array([-0.5340421], dtype=float32)"
      ]
     },
     "execution_count": 346,
     "metadata": {},
     "output_type": "execute_result"
    }
   ],
   "source": [
    "result"
   ]
  },
  {
   "cell_type": "code",
   "execution_count": 374,
   "metadata": {},
   "outputs": [
    {
     "data": {
      "text/plain": [
       "array([1113597.5], dtype=float32)"
      ]
     },
     "execution_count": 374,
     "metadata": {},
     "output_type": "execute_result"
    }
   ],
   "source": [
    "value = (-result*(1299963.0-900001.0))+900001.0\n",
    "value"
   ]
  },
  {
   "cell_type": "code",
   "execution_count": 263,
   "metadata": {},
   "outputs": [],
   "source": [
    "def reverse_transformation(value, min_value, max_value):\n",
    "    return (value*(max_value-min_value)+min_value) "
   ]
  }
 ],
 "metadata": {
  "kernelspec": {
   "display_name": "Python 2",
   "language": "python",
   "name": "python2"
  },
  "language_info": {
   "codemirror_mode": {
    "name": "ipython",
    "version": 2
   },
   "file_extension": ".py",
   "mimetype": "text/x-python",
   "name": "python",
   "nbconvert_exporter": "python",
   "pygments_lexer": "ipython2",
   "version": "2.7.14"
  }
 },
 "nbformat": 4,
 "nbformat_minor": 2
}
